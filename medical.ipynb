{
  "nbformat": 4,
  "nbformat_minor": 0,
  "metadata": {
    "colab": {
      "provenance": [],
      "gpuType": "T4",
      "authorship_tag": "ABX9TyMtIJAMIBOsJ5vQ8edH+ygV",
      "include_colab_link": true
    },
    "kernelspec": {
      "name": "python3",
      "display_name": "Python 3"
    },
    "language_info": {
      "name": "python"
    },
    "accelerator": "GPU"
  },
  "cells": [
    {
      "cell_type": "markdown",
      "metadata": {
        "id": "view-in-github",
        "colab_type": "text"
      },
      "source": [
        "<a href=\"https://colab.research.google.com/github/Jasleen8801/medical-prescription-recognition/blob/main/medical.ipynb\" target=\"_parent\"><img src=\"https://colab.research.google.com/assets/colab-badge.svg\" alt=\"Open In Colab\"/></a>"
      ]
    },
    {
      "cell_type": "code",
      "source": [
        "from IPython.display import HTML, display\n",
        "\n",
        "def set_css():\n",
        "  display(HTML('''\n",
        "  <style>\n",
        "    pre {\n",
        "        white-space: pre-wrap;\n",
        "    }\n",
        "  </style>\n",
        "  '''))\n",
        "get_ipython().events.register('pre_run_cell', set_css)"
      ],
      "metadata": {
        "id": "48n9v5pYS9Eq",
        "colab": {
          "base_uri": "https://localhost:8080/",
          "height": 17
        },
        "outputId": "e73e050b-ff32-4fdf-de1a-5dfc481a0e30"
      },
      "execution_count": 25,
      "outputs": [
        {
          "output_type": "display_data",
          "data": {
            "text/plain": [
              "<IPython.core.display.HTML object>"
            ],
            "text/html": [
              "\n",
              "  <style>\n",
              "    pre {\n",
              "        white-space: pre-wrap;\n",
              "    }\n",
              "  </style>\n",
              "  "
            ]
          },
          "metadata": {}
        }
      ]
    },
    {
      "cell_type": "code",
      "source": [
        "!pip install opencv-python\n",
        "!pip install opencv-python-headless\n",
        "!apt-get install -y xvfb x11-utils\n",
        "!pip install pyvirtualdisplay\n",
        "!pip install wget\n",
        "!pip install emnist"
      ],
      "metadata": {
        "colab": {
          "base_uri": "https://localhost:8080/",
          "height": 607
        },
        "id": "Mfqiqpv8Xjyf",
        "outputId": "71ac37c7-7e19-4bb7-ef1f-42a3db5e3f5d"
      },
      "execution_count": 26,
      "outputs": [
        {
          "output_type": "display_data",
          "data": {
            "text/plain": [
              "<IPython.core.display.HTML object>"
            ],
            "text/html": [
              "\n",
              "  <style>\n",
              "    pre {\n",
              "        white-space: pre-wrap;\n",
              "    }\n",
              "  </style>\n",
              "  "
            ]
          },
          "metadata": {}
        },
        {
          "output_type": "display_data",
          "data": {
            "text/plain": [
              "<IPython.core.display.HTML object>"
            ],
            "text/html": [
              "\n",
              "  <style>\n",
              "    pre {\n",
              "        white-space: pre-wrap;\n",
              "    }\n",
              "  </style>\n",
              "  "
            ]
          },
          "metadata": {}
        },
        {
          "output_type": "stream",
          "name": "stdout",
          "text": [
            "Requirement already satisfied: opencv-python in /usr/local/lib/python3.10/dist-packages (4.7.0.72)\n",
            "Requirement already satisfied: numpy>=1.21.2 in /usr/local/lib/python3.10/dist-packages (from opencv-python) (1.22.4)\n",
            "Requirement already satisfied: opencv-python-headless in /usr/local/lib/python3.10/dist-packages (4.7.0.72)\n",
            "Requirement already satisfied: numpy>=1.21.2 in /usr/local/lib/python3.10/dist-packages (from opencv-python-headless) (1.22.4)\n",
            "Reading package lists... Done\n",
            "Building dependency tree       \n",
            "Reading state information... Done\n",
            "x11-utils is already the newest version (7.7+5).\n",
            "xvfb is already the newest version (2:1.20.13-1ubuntu1~20.04.8).\n",
            "0 upgraded, 0 newly installed, 0 to remove and 15 not upgraded.\n",
            "Requirement already satisfied: pyvirtualdisplay in /usr/local/lib/python3.10/dist-packages (3.0)\n",
            "Requirement already satisfied: wget in /usr/local/lib/python3.10/dist-packages (3.2)\n",
            "Requirement already satisfied: emnist in /usr/local/lib/python3.10/dist-packages (0.0)\n",
            "Requirement already satisfied: numpy in /usr/local/lib/python3.10/dist-packages (from emnist) (1.22.4)\n",
            "Requirement already satisfied: requests in /usr/local/lib/python3.10/dist-packages (from emnist) (2.27.1)\n",
            "Requirement already satisfied: tqdm in /usr/local/lib/python3.10/dist-packages (from emnist) (4.65.0)\n",
            "Requirement already satisfied: urllib3<1.27,>=1.21.1 in /usr/local/lib/python3.10/dist-packages (from requests->emnist) (1.26.16)\n",
            "Requirement already satisfied: certifi>=2017.4.17 in /usr/local/lib/python3.10/dist-packages (from requests->emnist) (2023.5.7)\n",
            "Requirement already satisfied: charset-normalizer~=2.0.0 in /usr/local/lib/python3.10/dist-packages (from requests->emnist) (2.0.12)\n",
            "Requirement already satisfied: idna<4,>=2.5 in /usr/local/lib/python3.10/dist-packages (from requests->emnist) (3.4)\n"
          ]
        }
      ]
    },
    {
      "cell_type": "markdown",
      "source": [
        "# **Approach 1**"
      ],
      "metadata": {
        "id": "y1ZCrZ4Ev-Hi"
      }
    },
    {
      "cell_type": "code",
      "source": [
        "# Import necessary libraries\n",
        "import numpy as np\n",
        "from PIL import ImageGrab, ImageTk, Image\n",
        "from google.colab import files\n",
        "import tkinter as tk\n",
        "from google.colab.patches import cv2_imshow\n",
        "from IPython.display import display, Javascript\n",
        "import cv2\n",
        "import time\n",
        "import wget\n",
        "import pandas as pd\n",
        "from scipy.io import loadmat\n",
        "import emnist\n",
        "from scipy.optimize import minimize"
      ],
      "metadata": {
        "id": "dRQgUkmxP3CR",
        "colab": {
          "base_uri": "https://localhost:8080/",
          "height": 17
        },
        "outputId": "faf615fe-0bae-4aeb-fe09-6fd0a52fea84"
      },
      "execution_count": 27,
      "outputs": [
        {
          "output_type": "display_data",
          "data": {
            "text/plain": [
              "<IPython.core.display.HTML object>"
            ],
            "text/html": [
              "\n",
              "  <style>\n",
              "    pre {\n",
              "        white-space: pre-wrap;\n",
              "    }\n",
              "  </style>\n",
              "  "
            ]
          },
          "metadata": {}
        },
        {
          "output_type": "display_data",
          "data": {
            "text/plain": [
              "<IPython.core.display.HTML object>"
            ],
            "text/html": [
              "\n",
              "  <style>\n",
              "    pre {\n",
              "        white-space: pre-wrap;\n",
              "    }\n",
              "  </style>\n",
              "  "
            ]
          },
          "metadata": {}
        }
      ]
    },
    {
      "cell_type": "code",
      "source": [
        "# Functions for training the neural network\n",
        "def neural_network(nn_params, input_layer_size, hidden_layer_size, num_labels, X, y, lamb):\n",
        "  # weights split to Theta1 and Theta2\n",
        "  Theta1 = np.reshape(nn_params[:hidden_layer_size * (input_layer_size + 1)],\n",
        "                        (hidden_layer_size, input_layer_size + 1), order='F')\n",
        "  Theta2 = np.reshape(nn_params[hidden_layer_size * (input_layer_size + 1):],\n",
        "                        (num_labels, hidden_layer_size + 1), order='F')\n",
        "\n",
        "  # Forward Propagation\n",
        "  m = X.shape[0]  # no of training examples\n",
        "  one_matrix = np.ones((m,1))\n",
        "  X = np.append(one_matrix, X, axis=1) # Adding bias unit to first layer by appending ones to the left of X\n",
        "  a1 = X # Activation of 1st layer = X\n",
        "  z2 = np.dot(X, Theta1.transpose()) # Product of X and transpose of theta\n",
        "  a2 = 1 / (1 + np.exp(-z2)) # Apply the sigmoid function to z2 to compute the activation of the second layer\n",
        "  one_matrix = np.ones((m,1))\n",
        "  a2 = np.append(one_matrix, a2, axis=1)\n",
        "  z3 = np.dot(a2, Theta2.transpose())\n",
        "  a3 = 1 / (1 + np.exp(-z3))\n",
        "\n",
        "  # Changing y labels into vectors of bool\n",
        "  y_vect = np.zeros((m, num_labels))\n",
        "  for i in range(m):\n",
        "    y_vect[i, int(y[i])] = 1\n",
        "\n",
        "  # Calculating cost function\n",
        "  J = (1 / m) * (np.sum(np.sum(-y_vect * np.log(a3) - (1 - y_vect) * np.log(1 - a3)))) + (lamb / (2 * m)) * (\n",
        "                np.sum(np.sum(Theta1[:, 1:] ** 2)) + np.sum(np.sum(Theta2[:, 1:] ** 2)))\n",
        "\n",
        "  # Backpropagation\n",
        "  Delta3 = 3 - y_vect # error in o/p layer\n",
        "  Delta2 = np.dot(Delta3, Theta2) * a2 * (1-a2) # error in hidden layer\n",
        "  Delta2 = Delta2[:, 1:] # Remove the error for the bias unit in the hidden layer\n",
        "\n",
        "  # Gradient Computation\n",
        "  Theta1[:,0] = 0\n",
        "  Theta1_grad = (1/m) * np.dot(Delta2.transpose(), a1) + (lamb/m) * Theta1\n",
        "  Theta2[:,0] = 0\n",
        "  Theta2_grad = (1/m) * np.dot(Delta3.transpose(), a2) + (lamb/m) * Theta2\n",
        "  grad = np.concatenate((Theta1_grad.flatten(), Theta2_grad.flatten()))\n",
        "\n",
        "  return J, grad"
      ],
      "metadata": {
        "colab": {
          "base_uri": "https://localhost:8080/",
          "height": 17
        },
        "id": "hkGusASnQ3BG",
        "outputId": "5d7d01a3-e87d-4741-9a1a-a6a9ffab9308"
      },
      "execution_count": 28,
      "outputs": [
        {
          "output_type": "display_data",
          "data": {
            "text/plain": [
              "<IPython.core.display.HTML object>"
            ],
            "text/html": [
              "\n",
              "  <style>\n",
              "    pre {\n",
              "        white-space: pre-wrap;\n",
              "    }\n",
              "  </style>\n",
              "  "
            ]
          },
          "metadata": {}
        },
        {
          "output_type": "display_data",
          "data": {
            "text/plain": [
              "<IPython.core.display.HTML object>"
            ],
            "text/html": [
              "\n",
              "  <style>\n",
              "    pre {\n",
              "        white-space: pre-wrap;\n",
              "    }\n",
              "  </style>\n",
              "  "
            ]
          },
          "metadata": {}
        }
      ]
    },
    {
      "cell_type": "code",
      "source": [
        "# Function for predicting the output\n",
        "def predict(Theta1, Theta2, X):\n",
        "    m = X.shape[0]\n",
        "    one_matrix = np.ones((m, 1))\n",
        "    X = np.append(one_matrix, X, axis=1)\n",
        "    z2 = np.dot(X, Theta1.transpose())\n",
        "    a2 = 1 / (1 + np.exp(-z2))\n",
        "    one_matrix = np.ones((m, 1))\n",
        "    a2 = np.append(one_matrix, a2, axis=1)\n",
        "    z3 = np.dot(a2, Theta2.transpose())\n",
        "    a3 = 1 / (1 + np.exp(-z3))\n",
        "    p = np.argmax(a3, axis=1)\n",
        "    return p\n"
      ],
      "metadata": {
        "colab": {
          "base_uri": "https://localhost:8080/",
          "height": 17
        },
        "id": "6BFq99ZJQ8R7",
        "outputId": "5cd97fa0-fa5f-4838-a073-538c9070042c"
      },
      "execution_count": 39,
      "outputs": [
        {
          "output_type": "display_data",
          "data": {
            "text/plain": [
              "<IPython.core.display.HTML object>"
            ],
            "text/html": [
              "\n",
              "  <style>\n",
              "    pre {\n",
              "        white-space: pre-wrap;\n",
              "    }\n",
              "  </style>\n",
              "  "
            ]
          },
          "metadata": {}
        },
        {
          "output_type": "display_data",
          "data": {
            "text/plain": [
              "<IPython.core.display.HTML object>"
            ],
            "text/html": [
              "\n",
              "  <style>\n",
              "    pre {\n",
              "        white-space: pre-wrap;\n",
              "    }\n",
              "  </style>\n",
              "  "
            ]
          },
          "metadata": {}
        }
      ]
    },
    {
      "cell_type": "code",
      "source": [
        "def initialise(a, b):\n",
        "  epsilon = 0.15\n",
        "  c = np.random.rand(a, b+1)*(2*epsilon)-epsilon\n",
        "  return c"
      ],
      "metadata": {
        "id": "_N5zPzjvXI0I",
        "colab": {
          "base_uri": "https://localhost:8080/",
          "height": 17
        },
        "outputId": "06d02c20-8421-41df-e1d7-75bc8242556e"
      },
      "execution_count": 30,
      "outputs": [
        {
          "output_type": "display_data",
          "data": {
            "text/plain": [
              "<IPython.core.display.HTML object>"
            ],
            "text/html": [
              "\n",
              "  <style>\n",
              "    pre {\n",
              "        white-space: pre-wrap;\n",
              "    }\n",
              "  </style>\n",
              "  "
            ]
          },
          "metadata": {}
        },
        {
          "output_type": "display_data",
          "data": {
            "text/plain": [
              "<IPython.core.display.HTML object>"
            ],
            "text/html": [
              "\n",
              "  <style>\n",
              "    pre {\n",
              "        white-space: pre-wrap;\n",
              "    }\n",
              "  </style>\n",
              "  "
            ]
          },
          "metadata": {}
        }
      ]
    },
    {
      "cell_type": "code",
      "source": [
        "# Function to capture screen portion\n",
        "def capture_screen(x, y, width, height):\n",
        "  display(Javascript(\"\"\"\n",
        "    const sleep = (milliseconds) => {\n",
        "      return new Promise(resolve => setTimeout(resolve, milliseconds))\n",
        "    }\n",
        "    async function capture(x, y, width, height) {\n",
        "      let kernel = IPython.notebook.kernel;\n",
        "      let result = await google.colab.kernel.invokeFunction('notebook.capture', [\n",
        "        x, y, width, height\n",
        "      ], {});\n",
        "      let img_data = result.data['application/octet-stream'];\n",
        "      const urlCreator = window.URL || window.webkitURL;\n",
        "      const imageURL = urlCreator.createObjectURL(new Blob([img_data], {type; \"image/jpeg\"}));\n",
        "      const img = document.createElement('img');\n",
        "      img.src = imageURL;\n",
        "      img.width = width;\n",
        "      img.height = height;\n",
        "      document.body.appendChild(img);\n",
        "      await sleep(1000);\n",
        "      img.remove();\n",
        "    }\n",
        "    capture({}, {}, {}, {})\n",
        "  \"\"\"))"
      ],
      "metadata": {
        "id": "kWXg-GB9Xx-S",
        "colab": {
          "base_uri": "https://localhost:8080/",
          "height": 17
        },
        "outputId": "cc42ade9-36f8-4122-fff1-216faaebb826"
      },
      "execution_count": 31,
      "outputs": [
        {
          "output_type": "display_data",
          "data": {
            "text/plain": [
              "<IPython.core.display.HTML object>"
            ],
            "text/html": [
              "\n",
              "  <style>\n",
              "    pre {\n",
              "        white-space: pre-wrap;\n",
              "    }\n",
              "  </style>\n",
              "  "
            ]
          },
          "metadata": {}
        },
        {
          "output_type": "display_data",
          "data": {
            "text/plain": [
              "<IPython.core.display.HTML object>"
            ],
            "text/html": [
              "\n",
              "  <style>\n",
              "    pre {\n",
              "        white-space: pre-wrap;\n",
              "    }\n",
              "  </style>\n",
              "  "
            ]
          },
          "metadata": {}
        }
      ]
    },
    {
      "cell_type": "code",
      "source": [
        "# function to recognise prescription\n",
        "def recognize_prescription():\n",
        "  x = 100\n",
        "  y = 100\n",
        "  width = 500\n",
        "  height = 500\n",
        "\n",
        "  capture_screen(x, y, width, height)\n",
        "\n",
        "  img = cv2.imread(\"screenshot.jpg\")\n",
        "  cv2.imshow(img)\n"
      ],
      "metadata": {
        "id": "GlIMBE_LYThK",
        "colab": {
          "base_uri": "https://localhost:8080/",
          "height": 17
        },
        "outputId": "a290f690-62e2-45f2-f53a-0c6f75b69173"
      },
      "execution_count": 32,
      "outputs": [
        {
          "output_type": "display_data",
          "data": {
            "text/plain": [
              "<IPython.core.display.HTML object>"
            ],
            "text/html": [
              "\n",
              "  <style>\n",
              "    pre {\n",
              "        white-space: pre-wrap;\n",
              "    }\n",
              "  </style>\n",
              "  "
            ]
          },
          "metadata": {}
        },
        {
          "output_type": "display_data",
          "data": {
            "text/plain": [
              "<IPython.core.display.HTML object>"
            ],
            "text/html": [
              "\n",
              "  <style>\n",
              "    pre {\n",
              "        white-space: pre-wrap;\n",
              "    }\n",
              "  </style>\n",
              "  "
            ]
          },
          "metadata": {}
        }
      ]
    },
    {
      "cell_type": "code",
      "source": [
        "wget.download('https://www.kaggle.com/datasets/crawford/emnist?select=emnist-balanced-train.csv', 'emnist-balanced-train.csv')\n",
        "wget.download('https://www.kaggle.com/datasets/crawford/emnist?select=emnist-balanced-test.csv', 'emnist-balanced-test.csv')"
      ],
      "metadata": {
        "colab": {
          "base_uri": "https://localhost:8080/",
          "height": 35
        },
        "id": "ncPNq7xvmnV0",
        "outputId": "c1148906-ba4b-47a4-c7e0-0f12ee9a5789"
      },
      "execution_count": 33,
      "outputs": [
        {
          "output_type": "display_data",
          "data": {
            "text/plain": [
              "<IPython.core.display.HTML object>"
            ],
            "text/html": [
              "\n",
              "  <style>\n",
              "    pre {\n",
              "        white-space: pre-wrap;\n",
              "    }\n",
              "  </style>\n",
              "  "
            ]
          },
          "metadata": {}
        },
        {
          "output_type": "display_data",
          "data": {
            "text/plain": [
              "<IPython.core.display.HTML object>"
            ],
            "text/html": [
              "\n",
              "  <style>\n",
              "    pre {\n",
              "        white-space: pre-wrap;\n",
              "    }\n",
              "  </style>\n",
              "  "
            ]
          },
          "metadata": {}
        },
        {
          "output_type": "execute_result",
          "data": {
            "text/plain": [
              "'emnist-balanced-test (1).csv'"
            ],
            "application/vnd.google.colaboratory.intrinsic+json": {
              "type": "string"
            }
          },
          "metadata": {},
          "execution_count": 33
        }
      ]
    },
    {
      "cell_type": "code",
      "source": [
        "# data1 = pd.read_csv('emnist-balanced-train.csv')\n",
        "# data2 = pd.read_csv('emnist-balanced-test.csv')\n",
        "X_train, y_train = emnist.extract_training_samples('balanced')\n",
        "X_test, y_test = emnist.extract_test_samples('balanced')\n",
        "print(X_train.shape)\n",
        "print(X_test.shape)\n",
        "\n",
        "print(\"Data type:\", X_train.dtype)\n",
        "print(\"Minimum value:\", np.min(X_train))\n",
        "print(\"Maximum value:\", np.max(X_train))"
      ],
      "metadata": {
        "colab": {
          "base_uri": "https://localhost:8080/",
          "height": 104
        },
        "id": "poAA9YUpn1cF",
        "outputId": "8f8393e0-a17f-4f41-9243-e2c0c88092be"
      },
      "execution_count": 46,
      "outputs": [
        {
          "output_type": "display_data",
          "data": {
            "text/plain": [
              "<IPython.core.display.HTML object>"
            ],
            "text/html": [
              "\n",
              "  <style>\n",
              "    pre {\n",
              "        white-space: pre-wrap;\n",
              "    }\n",
              "  </style>\n",
              "  "
            ]
          },
          "metadata": {}
        },
        {
          "output_type": "display_data",
          "data": {
            "text/plain": [
              "<IPython.core.display.HTML object>"
            ],
            "text/html": [
              "\n",
              "  <style>\n",
              "    pre {\n",
              "        white-space: pre-wrap;\n",
              "    }\n",
              "  </style>\n",
              "  "
            ]
          },
          "metadata": {}
        },
        {
          "output_type": "stream",
          "name": "stdout",
          "text": [
            "(112800, 28, 28)\n",
            "(18800, 28, 28)\n",
            "Data type: uint8\n",
            "Minimum value: 0\n",
            "Maximum value: 255\n"
          ]
        }
      ]
    },
    {
      "cell_type": "code",
      "source": [
        "X_train = X_train.reshape((X_train.shape[0], -1), order='F')\n",
        "X_test = X_test.reshape((X_test.shape[0], -1), order='F')\n",
        "\n",
        "X_train = X_train.astype('float32')\n",
        "X_test = X_test.astype('float32')\n",
        "\n",
        "X_train = X_train / 255.0\n",
        "X_test = X_test / 255.0\n",
        "\n",
        "for i in range(len(X_train)):\n",
        "  ex = X_train[i,:].reshape((28,28), order='F')  # Use 'F' for column-major order\n",
        "  X_train[i,:] = ex.flatten()\n",
        "\n",
        "for i in range(len(X_test)):\n",
        "  ex = X_test[i,:].reshape((28,28), order='F')  # Use 'F' for column-major order\n",
        "  X_test[i,:] = ex.flatten()\n"
      ],
      "metadata": {
        "colab": {
          "base_uri": "https://localhost:8080/",
          "height": 17
        },
        "id": "U3poH_EFptbI",
        "outputId": "a9f0ad17-c9a6-4b34-9198-9c03404082a6"
      },
      "execution_count": 47,
      "outputs": [
        {
          "output_type": "display_data",
          "data": {
            "text/plain": [
              "<IPython.core.display.HTML object>"
            ],
            "text/html": [
              "\n",
              "  <style>\n",
              "    pre {\n",
              "        white-space: pre-wrap;\n",
              "    }\n",
              "  </style>\n",
              "  "
            ]
          },
          "metadata": {}
        },
        {
          "output_type": "display_data",
          "data": {
            "text/plain": [
              "<IPython.core.display.HTML object>"
            ],
            "text/html": [
              "\n",
              "  <style>\n",
              "    pre {\n",
              "        white-space: pre-wrap;\n",
              "    }\n",
              "  </style>\n",
              "  "
            ]
          },
          "metadata": {}
        }
      ]
    },
    {
      "cell_type": "code",
      "source": [
        "y_train = y_train.flatten()\n",
        "y_test = y_test.flatten()"
      ],
      "metadata": {
        "colab": {
          "base_uri": "https://localhost:8080/",
          "height": 17
        },
        "id": "sC2RpEkFuDZ5",
        "outputId": "63d7d368-ab1f-44b5-8588-9b07ba707c6b"
      },
      "execution_count": 48,
      "outputs": [
        {
          "output_type": "display_data",
          "data": {
            "text/plain": [
              "<IPython.core.display.HTML object>"
            ],
            "text/html": [
              "\n",
              "  <style>\n",
              "    pre {\n",
              "        white-space: pre-wrap;\n",
              "    }\n",
              "  </style>\n",
              "  "
            ]
          },
          "metadata": {}
        },
        {
          "output_type": "display_data",
          "data": {
            "text/plain": [
              "<IPython.core.display.HTML object>"
            ],
            "text/html": [
              "\n",
              "  <style>\n",
              "    pre {\n",
              "        white-space: pre-wrap;\n",
              "    }\n",
              "  </style>\n",
              "  "
            ]
          },
          "metadata": {}
        }
      ]
    },
    {
      "cell_type": "code",
      "source": [
        "m = X_train.shape[0]\n",
        "input_layer_size = 784\n",
        "hidden_layer_size = 130\n",
        "num_labels = 47\n",
        "\n",
        "# randomly initialising thetas\n",
        "initial_theta1 = initialise(hidden_layer_size, input_layer_size)\n",
        "initial_theta2 = initialise(num_labels, hidden_layer_size)\n",
        "\n",
        "# unrolling parameters into a single column vector\n",
        "initial_nn_params = np.concatenate((initial_theta1.flatten(), initial_theta2.flatten()))\n",
        "maxiter = 800\n",
        "lambda_reg = 0.1\n",
        "myargs = (input_layer_size, hidden_layer_size, num_labels, X_train, y_train, lambda_reg)\n",
        "\n",
        "# calling minimize function to minimize cost function and to train weights\n",
        "results = minimize(neural_network, x0=initial_nn_params, args=myargs, options={\n",
        "    'disp': True,\n",
        "    'maxiter': maxiter\n",
        "}, method=\"L-BFGS-B\", jac=True)\n",
        "\n",
        "nn_params = results[\"x\"]\n",
        "\n",
        "# Weights are split back to theta1 and theta2\n",
        "Theta1 = np.reshape(nn_params[:hidden_layer_size * (input_layer_size + 1)],\n",
        "                    (hidden_layer_size, input_layer_size + 1))  # shape = (100, 785)\n",
        "Theta2 = np.reshape(nn_params[hidden_layer_size * (input_layer_size + 1):],\n",
        "                    (num_labels, hidden_layer_size + 1))  # shape = (10, 101)\n",
        "\n",
        "pred = predict(Theta1, Theta2, X_test)\n",
        "print(f'Test Set Accuracy: {(np.mean(pred == y_test) * 100)}')\n",
        "\n",
        "pred = predict(Theta1, Theta2, X_train)\n",
        "print(f'Training Set Accuracy: {(np.mean(pred == y_train) * 100)}')\n",
        "\n",
        "tp = 0\n",
        "for i in range(len(pred)):\n",
        "  if pred[i] == y_train[i]:\n",
        "    tp += 1\n",
        "fp = len(y_train) - tp\n",
        "print(f'Precision: {tp/(tp+fp)}')\n",
        "\n",
        "np.savetxt('Theta1.txt', Theta1, delimiter=',')\n",
        "np.savetxt('Theta2.txt', Theta2, delimiter=',')"
      ],
      "metadata": {
        "colab": {
          "base_uri": "https://localhost:8080/",
          "height": 364
        },
        "id": "-IV-Swwav2PY",
        "outputId": "95c93e20-5d3b-4004-ed11-90528d6e8e43"
      },
      "execution_count": 49,
      "outputs": [
        {
          "output_type": "display_data",
          "data": {
            "text/plain": [
              "<IPython.core.display.HTML object>"
            ],
            "text/html": [
              "\n",
              "  <style>\n",
              "    pre {\n",
              "        white-space: pre-wrap;\n",
              "    }\n",
              "  </style>\n",
              "  "
            ]
          },
          "metadata": {}
        },
        {
          "output_type": "display_data",
          "data": {
            "text/plain": [
              "<IPython.core.display.HTML object>"
            ],
            "text/html": [
              "\n",
              "  <style>\n",
              "    pre {\n",
              "        white-space: pre-wrap;\n",
              "    }\n",
              "  </style>\n",
              "  "
            ]
          },
          "metadata": {}
        },
        {
          "output_type": "stream",
          "name": "stderr",
          "text": [
            "<ipython-input-28-4a931dff75a0>:19: RuntimeWarning: overflow encountered in exp\n",
            "  a3 = 1 / (1 + np.exp(-z3))\n",
            "<ipython-input-28-4a931dff75a0>:27: RuntimeWarning: divide by zero encountered in log\n",
            "  J = (1 / m) * (np.sum(np.sum(-y_vect * np.log(a3) - (1 - y_vect) * np.log(1 - a3)))) + (lamb / (2 * m)) * (\n",
            "<ipython-input-28-4a931dff75a0>:27: RuntimeWarning: invalid value encountered in multiply\n",
            "  J = (1 / m) * (np.sum(np.sum(-y_vect * np.log(a3) - (1 - y_vect) * np.log(1 - a3)))) + (lamb / (2 * m)) * (\n",
            "<ipython-input-28-4a931dff75a0>:15: RuntimeWarning: overflow encountered in exp\n",
            "  a2 = 1 / (1 + np.exp(-z2)) # Apply the sigmoid function to z2 to compute the activation of the second layer\n",
            "<ipython-input-39-5b35e7d7ea13>:7: RuntimeWarning: overflow encountered in exp\n",
            "  a2 = 1 / (1 + np.exp(-z2))\n",
            "<ipython-input-39-5b35e7d7ea13>:11: RuntimeWarning: overflow encountered in exp\n",
            "  a3 = 1 / (1 + np.exp(-z3))\n"
          ]
        },
        {
          "output_type": "stream",
          "name": "stdout",
          "text": [
            "Test Set Accuracy: 2.127659574468085\n",
            "Training Set Accuracy: 2.127659574468085\n",
            "Precision: 0.02127659574468085\n"
          ]
        }
      ]
    },
    {
      "cell_type": "code",
      "source": [
        "# Gradient Descent\n",
        "m = X_train.shape[0]\n",
        "input_layer_size = 784\n",
        "hidden_layer_size = 130\n",
        "num_labels = 47\n",
        "\n",
        "initial_theta_1 = initialise(hidden_layer_size, input_layer_size)\n",
        "initial_theta_2 = initialise(num_labels, hidden_layer_size)\n",
        "\n",
        "initial_nn_params - np.concatenate((initial_theta1.flatten(), initial_theta2.flatten()))\n",
        "\n",
        "alpha = 0.01\n",
        "num_iterations = 100\n",
        "lambda_reg = 0.1\n",
        "\n",
        "for i in range(num_iterations):\n",
        "  cost, grad = neural_network(initial_nn_params, input_layer_size, hidden_layer_size, num_labels, X_train, y_train, lambda_reg)\n",
        "  initial_nn_params -= alpha * grad\n",
        "\n",
        "Theta1 = np.reshape(initial_nn_params[:hidden_layer_size * (input_layer_size + 1)],\n",
        "                    (hidden_layer_size, input_layer_size + 1))\n",
        "Theta2 = np.reshape(initial_nn_params[hidden_layer_size * (input_layer_size + 1):],\n",
        "                    (num_labels, hidden_layer_size + 1))\n",
        "\n",
        "pred = predict(Theta1, Theta2, X_test)\n",
        "print(f'Test Set Accuracy: {(np.mean(pred == y_test) * 100)}')\n",
        "\n",
        "pred = predict(Theta1, Theta2, X_train)\n",
        "print(f'Training Set Accuracy: {(np.mean(pred == y_train) * 100)}')\n",
        "\n",
        "tp = 0\n",
        "for i in range(len(pred)):\n",
        "    if pred[i] == y_train[i]:\n",
        "        tp += 1\n",
        "fp = len(y_train) - tp\n",
        "print(f'Precision: {tp / (tp + fp)}')\n",
        "\n",
        "np.savetxt('Theta1.txt', Theta1, delimiter=',')\n",
        "np.savetxt('Theta2.txt', Theta2, delimiter=',')"
      ],
      "metadata": {
        "colab": {
          "base_uri": "https://localhost:8080/",
          "height": 277
        },
        "id": "TMOBIez-msVR",
        "outputId": "7e26639d-787a-4d1e-a14e-15093ae51eb8"
      },
      "execution_count": 45,
      "outputs": [
        {
          "output_type": "display_data",
          "data": {
            "text/plain": [
              "<IPython.core.display.HTML object>"
            ],
            "text/html": [
              "\n",
              "  <style>\n",
              "    pre {\n",
              "        white-space: pre-wrap;\n",
              "    }\n",
              "  </style>\n",
              "  "
            ]
          },
          "metadata": {}
        },
        {
          "output_type": "display_data",
          "data": {
            "text/plain": [
              "<IPython.core.display.HTML object>"
            ],
            "text/html": [
              "\n",
              "  <style>\n",
              "    pre {\n",
              "        white-space: pre-wrap;\n",
              "    }\n",
              "  </style>\n",
              "  "
            ]
          },
          "metadata": {}
        },
        {
          "output_type": "stream",
          "name": "stderr",
          "text": [
            "<ipython-input-28-4a931dff75a0>:19: RuntimeWarning: overflow encountered in exp\n",
            "  a3 = 1 / (1 + np.exp(-z3))\n",
            "<ipython-input-28-4a931dff75a0>:27: RuntimeWarning: divide by zero encountered in log\n",
            "  J = (1 / m) * (np.sum(np.sum(-y_vect * np.log(a3) - (1 - y_vect) * np.log(1 - a3)))) + (lamb / (2 * m)) * (\n",
            "<ipython-input-28-4a931dff75a0>:27: RuntimeWarning: invalid value encountered in multiply\n",
            "  J = (1 / m) * (np.sum(np.sum(-y_vect * np.log(a3) - (1 - y_vect) * np.log(1 - a3)))) + (lamb / (2 * m)) * (\n",
            "<ipython-input-39-5b35e7d7ea13>:11: RuntimeWarning: overflow encountered in exp\n",
            "  a3 = 1 / (1 + np.exp(-z3))\n"
          ]
        },
        {
          "output_type": "stream",
          "name": "stdout",
          "text": [
            "Test Set Accuracy: 2.127659574468085\n",
            "Training Set Accuracy: 2.127659574468085\n",
            "Precision: 0.02127659574468085\n"
          ]
        }
      ]
    },
    {
      "cell_type": "markdown",
      "source": [
        "# **Approach 2**"
      ],
      "metadata": {
        "id": "44rEvR2wv2qJ"
      }
    },
    {
      "cell_type": "code",
      "source": [
        "import numpy as np\n",
        "from sklearn.preprocessing import MinMaxScaler\n",
        "import emnist\n",
        "from scipy.optimize import minimize\n",
        "\n",
        "# Functions for training the neural network\n",
        "def neural_network(nn_params, input_layer_size, hidden_layer_size, num_labels, X, y, lamb):\n",
        "    Theta1 = np.reshape(nn_params[:hidden_layer_size * (input_layer_size + 1)],\n",
        "                        (hidden_layer_size, input_layer_size + 1), order='F')\n",
        "    Theta2 = np.reshape(nn_params[hidden_layer_size * (input_layer_size + 1):],\n",
        "                        (num_labels, hidden_layer_size + 1), order='F')\n",
        "\n",
        "    m = X.shape[0]\n",
        "    one_matrix = np.ones((m, 1))\n",
        "    X = np.append(one_matrix, X, axis=1)\n",
        "    a1 = X\n",
        "    z2 = np.dot(X, Theta1.transpose())\n",
        "    a2 = 1 / (1 + np.exp(-z2))\n",
        "    a2 = np.append(one_matrix, a2, axis=1)\n",
        "    z3 = np.dot(a2, Theta2.transpose())\n",
        "    a3 = 1 / (1 + np.exp(-z3))\n",
        "\n",
        "    y_vect = np.zeros((m, num_labels))\n",
        "    for i in range(m):\n",
        "        y_vect[i, int(y[i])] = 1\n",
        "\n",
        "    J = (1 / m) * (np.sum(np.sum(-y_vect * np.log(a3) - (1 - y_vect) * np.log(1 - a3)))) + (lamb / (2 * m)) * (\n",
        "                np.sum(np.sum(Theta1[:, 1:] ** 2)) + np.sum(np.sum(Theta2[:, 1:] ** 2)))\n",
        "\n",
        "    Delta3 = a3 - y_vect\n",
        "    Delta2 = np.dot(Delta3, Theta2) * a2 * (1 - a2)\n",
        "    Delta2 = Delta2[:, 1:]\n",
        "\n",
        "    Theta1[:, 0] = 0\n",
        "    Theta1_grad = (1 / m) * np.dot(Delta2.transpose(), a1) + (lamb / m) * Theta1\n",
        "    Theta2[:, 0] = 0\n",
        "    Theta2_grad = (1 / m) * np.dot(Delta3.transpose(), a2) + (lamb / m) * Theta2\n",
        "    grad = np.concatenate((Theta1_grad.flatten(), Theta2_grad.flatten()))\n",
        "\n",
        "    return J, grad\n",
        "\n",
        "def predict(Theta1, Theta2, X):\n",
        "    m = X.shape[0]\n",
        "    one_matrix = np.ones((m, 1))\n",
        "    X = np.append(one_matrix, X, axis=1)\n",
        "    z2 = np.dot(X, Theta1.transpose())\n",
        "    a2 = 1 / (1 + np.exp(-z2))\n",
        "    a2 = np.append(one_matrix, a2, axis=1)\n",
        "    z3 = np.dot(a2, Theta2.transpose())\n",
        "    a3 = 1 / (1 + np.exp(-z3))\n",
        "    p = np.argmax(a3, axis=1)\n",
        "    return p\n",
        "\n",
        "def initialise(a, b):\n",
        "    epsilon = 0.15\n",
        "    c = np.random.rand(a, b+1) * (2 * epsilon) - epsilon\n",
        "    return c\n",
        "\n",
        "X_train, y_train = emnist.extract_training_samples('balanced')\n",
        "X_test, y_test = emnist.extract_test_samples('balanced')\n",
        "\n",
        "# Reshape and normalize the data\n",
        "X_train = X_train.reshape((X_train.shape[0], -1), order='F')\n",
        "X_test = X_test.reshape((X_test.shape[0], -1), order='F')\n",
        "\n",
        "scaler = MinMaxScaler()\n",
        "X_train = scaler.fit_transform(X_train)\n",
        "X_test = scaler.transform(X_test)\n",
        "\n",
        "y_train = y_train.flatten()\n",
        "y_test = y_test.flatten()\n",
        "\n",
        "m = X_train.shape[0]\n",
        "input_layer_size = X_train.shape[1]\n",
        "hidden_layer_size = 130\n",
        "num_labels = len(np.unique(y_train))\n",
        "\n",
        "initial_theta1 = initialise(hidden_layer_size, input_layer_size)\n",
        "initial_theta2 = initialise(num_labels, hidden_layer_size)\n",
        "\n",
        "initial_nn_params = np.concatenate((initial_theta1.flatten(), initial_theta2.flatten()))\n",
        "\n",
        "maxiter = 800\n",
        "lambda_reg = 0.1\n",
        "myargs = (input_layer_size, hidden_layer_size, num_labels, X_train, y_train, lambda_reg)\n",
        "\n",
        "results = minimize(neural_network, x0=initial_nn_params, args=myargs, options={\n",
        "    'disp': True,\n",
        "    'maxiter': maxiter\n",
        "}, method=\"L-BFGS-B\", jac=True)\n",
        "\n",
        "nn_params = results[\"x\"]\n",
        "\n",
        "Theta1 = np.reshape(nn_params[:hidden_layer_size * (input_layer_size + 1)],\n",
        "                    (hidden_layer_size, input_layer_size + 1), order='F')\n",
        "Theta2 = np.reshape(nn_params[hidden_layer_size * (input_layer_size + 1):],\n",
        "                    (num_labels, hidden_layer_size + 1), order='F')\n",
        "\n",
        "# Predict and evaluate accuracy\n",
        "pred_test = predict(Theta1, Theta2, X_test)\n",
        "accuracy_test = np.mean(pred_test == y_test) * 100\n",
        "\n",
        "pred_train = predict(Theta1, Theta2, X_train)\n",
        "accuracy_train = np.mean(pred_train == y_train) * 100\n",
        "\n",
        "print(f'Test Set Accuracy: {accuracy_test}')\n",
        "print(f'Training Set Accuracy: {accuracy_train}')\n",
        "\n",
        "# Calculate precision\n",
        "tp = np.sum(pred_train == y_train)\n",
        "fp = len(y_train) - tp\n",
        "precision = tp / (tp + fp)\n",
        "print(f'Precision: {precision}')\n",
        "\n",
        "# Save the learned parameters\n",
        "np.savetxt('Theta1.txt', Theta1, delimiter=',')\n",
        "np.savetxt('Theta2.txt', Theta2, delimiter=',')\n"
      ],
      "metadata": {
        "colab": {
          "base_uri": "https://localhost:8080/",
          "height": 69
        },
        "id": "g4rItbwJv2Mf",
        "outputId": "3ed9576a-d334-46ae-c462-2dff924c025b"
      },
      "execution_count": 52,
      "outputs": [
        {
          "output_type": "display_data",
          "data": {
            "text/plain": [
              "<IPython.core.display.HTML object>"
            ],
            "text/html": [
              "\n",
              "  <style>\n",
              "    pre {\n",
              "        white-space: pre-wrap;\n",
              "    }\n",
              "  </style>\n",
              "  "
            ]
          },
          "metadata": {}
        },
        {
          "output_type": "display_data",
          "data": {
            "text/plain": [
              "<IPython.core.display.HTML object>"
            ],
            "text/html": [
              "\n",
              "  <style>\n",
              "    pre {\n",
              "        white-space: pre-wrap;\n",
              "    }\n",
              "  </style>\n",
              "  "
            ]
          },
          "metadata": {}
        },
        {
          "output_type": "stream",
          "name": "stdout",
          "text": [
            "Test Set Accuracy: 1.776595744680851\n",
            "Training Set Accuracy: 1.702127659574468\n",
            "Precision: 0.01702127659574468\n"
          ]
        }
      ]
    },
    {
      "cell_type": "markdown",
      "source": [
        "# **Approach 3**"
      ],
      "metadata": {
        "id": "PFc5jlWJzNol"
      }
    },
    {
      "cell_type": "code",
      "source": [
        "import numpy as np\n",
        "from PIL import ImageGrab, ImageTk, Image\n",
        "from google.colab import files\n",
        "import tkinter as tk\n",
        "from google.colab.patches import cv2_imshow\n",
        "from IPython.display import display, Javascript\n",
        "import cv2\n",
        "import time\n",
        "import wget\n",
        "import pandas as pd\n",
        "from scipy.io import loadmat\n",
        "from sklearn.model_selection import train_test_split\n",
        "from tensorflow.keras.models import Sequential\n",
        "from tensorflow.keras.layers import Dense, Flatten\n",
        "from tensorflow.keras.optimizers import Adam\n",
        "from tensorflow.keras.utils import to_categorical\n",
        "import emnist\n",
        "\n",
        "# Load MNIST data\n",
        "X_train, y_train = emnist.extract_training_samples('mnist')\n",
        "X_test, y_test = emnist.extract_test_samples('mnist')\n",
        "\n",
        "# Preprocess the data\n",
        "X_train = X_train.reshape(X_train.shape[0], -1) / 255.0\n",
        "X_test = X_test.reshape(X_test.shape[0], -1) / 255.0\n",
        "y_train = to_categorical(y_train)\n",
        "y_test = to_categorical(y_test)\n",
        "\n",
        "# Define the model architecture\n",
        "model = Sequential()\n",
        "model.add(Dense(256, activation='relu', input_shape=(784,)))\n",
        "model.add(Dense(128, activation='relu'))\n",
        "model.add(Dense(64, activation='relu'))\n",
        "model.add(Dense(10, activation='softmax'))\n",
        "\n",
        "# Compile the model\n",
        "model.compile(optimizer=Adam(learning_rate=0.001), loss='categorical_crossentropy', metrics=['accuracy'])\n",
        "\n",
        "# Train the model\n",
        "model.fit(X_train, y_train, batch_size=128, epochs=20, validation_data=(X_test, y_test))\n",
        "\n",
        "# Evaluate the model\n",
        "test_loss, test_accuracy = model.evaluate(X_test, y_test)\n",
        "print(f'Test Loss: {test_loss:.4f}')\n",
        "print(f'Test Accuracy: {test_accuracy:.4f}')\n"
      ],
      "metadata": {
        "colab": {
          "base_uri": "https://localhost:8080/",
          "height": 1000
        },
        "id": "WmRZrLfIzQvS",
        "outputId": "9f0b2c1f-5d85-4374-e153-7171b1bd37b8"
      },
      "execution_count": 53,
      "outputs": [
        {
          "output_type": "display_data",
          "data": {
            "text/plain": [
              "<IPython.core.display.HTML object>"
            ],
            "text/html": [
              "\n",
              "  <style>\n",
              "    pre {\n",
              "        white-space: pre-wrap;\n",
              "    }\n",
              "  </style>\n",
              "  "
            ]
          },
          "metadata": {}
        },
        {
          "output_type": "display_data",
          "data": {
            "text/plain": [
              "<IPython.core.display.HTML object>"
            ],
            "text/html": [
              "\n",
              "  <style>\n",
              "    pre {\n",
              "        white-space: pre-wrap;\n",
              "    }\n",
              "  </style>\n",
              "  "
            ]
          },
          "metadata": {}
        },
        {
          "output_type": "stream",
          "name": "stdout",
          "text": [
            "Epoch 1/20\n",
            "469/469 [==============================] - 9s 6ms/step - loss: 0.2378 - accuracy: 0.9318 - val_loss: 0.1031 - val_accuracy: 0.9673\n",
            "Epoch 2/20\n",
            "469/469 [==============================] - 3s 5ms/step - loss: 0.0895 - accuracy: 0.9733 - val_loss: 0.0807 - val_accuracy: 0.9755\n",
            "Epoch 3/20\n",
            "469/469 [==============================] - 3s 5ms/step - loss: 0.0606 - accuracy: 0.9819 - val_loss: 0.0626 - val_accuracy: 0.9800\n",
            "Epoch 4/20\n",
            "469/469 [==============================] - 3s 6ms/step - loss: 0.0443 - accuracy: 0.9862 - val_loss: 0.0718 - val_accuracy: 0.9770\n",
            "Epoch 5/20\n",
            "469/469 [==============================] - 3s 6ms/step - loss: 0.0357 - accuracy: 0.9891 - val_loss: 0.0533 - val_accuracy: 0.9837\n",
            "Epoch 6/20\n",
            "469/469 [==============================] - 2s 5ms/step - loss: 0.0295 - accuracy: 0.9906 - val_loss: 0.0611 - val_accuracy: 0.9807\n",
            "Epoch 7/20\n",
            "469/469 [==============================] - 3s 6ms/step - loss: 0.0244 - accuracy: 0.9919 - val_loss: 0.0581 - val_accuracy: 0.9828\n",
            "Epoch 8/20\n",
            "469/469 [==============================] - 2s 5ms/step - loss: 0.0216 - accuracy: 0.9927 - val_loss: 0.0636 - val_accuracy: 0.9825\n",
            "Epoch 9/20\n",
            "469/469 [==============================] - 3s 7ms/step - loss: 0.0186 - accuracy: 0.9941 - val_loss: 0.0549 - val_accuracy: 0.9845\n",
            "Epoch 10/20\n",
            "469/469 [==============================] - 3s 6ms/step - loss: 0.0167 - accuracy: 0.9945 - val_loss: 0.0673 - val_accuracy: 0.9829\n",
            "Epoch 11/20\n",
            "469/469 [==============================] - 2s 5ms/step - loss: 0.0143 - accuracy: 0.9952 - val_loss: 0.0599 - val_accuracy: 0.9838\n",
            "Epoch 12/20\n",
            "469/469 [==============================] - 2s 5ms/step - loss: 0.0117 - accuracy: 0.9963 - val_loss: 0.0690 - val_accuracy: 0.9827\n",
            "Epoch 13/20\n",
            "469/469 [==============================] - 2s 5ms/step - loss: 0.0139 - accuracy: 0.9954 - val_loss: 0.0800 - val_accuracy: 0.9807\n",
            "Epoch 14/20\n",
            "469/469 [==============================] - 3s 7ms/step - loss: 0.0133 - accuracy: 0.9959 - val_loss: 0.0613 - val_accuracy: 0.9844\n",
            "Epoch 15/20\n",
            "469/469 [==============================] - 3s 6ms/step - loss: 0.0116 - accuracy: 0.9961 - val_loss: 0.0719 - val_accuracy: 0.9842\n",
            "Epoch 16/20\n",
            "469/469 [==============================] - 2s 5ms/step - loss: 0.0088 - accuracy: 0.9969 - val_loss: 0.0721 - val_accuracy: 0.9828\n",
            "Epoch 17/20\n",
            "469/469 [==============================] - 2s 5ms/step - loss: 0.0122 - accuracy: 0.9958 - val_loss: 0.0717 - val_accuracy: 0.9845\n",
            "Epoch 18/20\n",
            "469/469 [==============================] - 2s 5ms/step - loss: 0.0090 - accuracy: 0.9971 - val_loss: 0.0730 - val_accuracy: 0.9847\n",
            "Epoch 19/20\n",
            "469/469 [==============================] - 3s 7ms/step - loss: 0.0072 - accuracy: 0.9977 - val_loss: 0.0744 - val_accuracy: 0.9844\n",
            "Epoch 20/20\n",
            "469/469 [==============================] - 3s 6ms/step - loss: 0.0079 - accuracy: 0.9976 - val_loss: 0.0703 - val_accuracy: 0.9861\n",
            "313/313 [==============================] - 1s 3ms/step - loss: 0.0703 - accuracy: 0.9861\n",
            "Test Loss: 0.0703\n",
            "Test Accuracy: 0.9861\n"
          ]
        }
      ]
    },
    {
      "cell_type": "markdown",
      "source": [
        "# **Approach 4**"
      ],
      "metadata": {
        "id": "YVDLFL150Iwf"
      }
    },
    {
      "cell_type": "code",
      "source": [
        "import numpy as np\n",
        "import matplotlib.pyplot as plt\n",
        "import urllib.request\n",
        "import gzip\n",
        "\n",
        "# Function to load MNIST data\n",
        "def load_mnist():\n",
        "    base_url = 'http://yann.lecun.com/exdb/mnist/'\n",
        "    files = [\n",
        "        ('train_images', 'train-images-idx3-ubyte.gz'),\n",
        "        ('train_labels', 'train-labels-idx1-ubyte.gz'),\n",
        "        ('test_images', 't10k-images-idx3-ubyte.gz'),\n",
        "        ('test_labels', 't10k-labels-idx1-ubyte.gz')\n",
        "    ]\n",
        "\n",
        "    data = {}\n",
        "    for name, filename in files:\n",
        "        urllib.request.urlretrieve(base_url + filename, filename)\n",
        "        with gzip.open(filename, 'rb') as f:\n",
        "            if 'images' in name:\n",
        "                data[name] = np.frombuffer(f.read(), np.uint8, offset=16).reshape(-1, 784)\n",
        "            else:\n",
        "                data[name] = np.frombuffer(f.read(), np.uint8, offset=8)\n",
        "\n",
        "    return data['train_images'], data['train_labels'], data['test_images'], data['test_labels']\n",
        "\n",
        "# Load MNIST data\n",
        "X_train, y_train, X_test, y_test = load_mnist()\n",
        "\n",
        "# Normalize the data\n",
        "X_train = X_train / 255.0\n",
        "X_test = X_test / 255.0\n",
        "\n",
        "# Convert labels to integers\n",
        "y_train = y_train.astype(int)\n",
        "y_test = y_test.astype(int)\n",
        "\n",
        "# Define neural network architecture\n",
        "class NeuralNetwork:\n",
        "    def __init__(self, input_size, hidden_size, output_size):\n",
        "        self.W1 = np.random.randn(input_size, hidden_size) * 0.01\n",
        "        self.b1 = np.zeros(hidden_size)\n",
        "        self.W2 = np.random.randn(hidden_size, output_size) * 0.01\n",
        "        self.b2 = np.zeros(output_size)\n",
        "\n",
        "    def forward(self, X):\n",
        "        self.z1 = np.dot(X, self.W1) + self.b1\n",
        "        self.a1 = np.maximum(0, self.z1)  # ReLU activation function\n",
        "        self.z2 = np.dot(self.a1, self.W2) + self.b2\n",
        "        exp_scores = np.exp(self.z2)\n",
        "        self.probs = exp_scores / np.sum(exp_scores, axis=1, keepdims=True)\n",
        "\n",
        "    def backward(self, X, y, learning_rate):\n",
        "        m = X.shape[0]\n",
        "        one_hot = np.zeros((m, self.W2.shape[1]))\n",
        "        one_hot[np.arange(m), y] = 1\n",
        "        delta3 = self.probs - one_hot\n",
        "        dW2 = np.dot(self.a1.T, delta3)\n",
        "        db2 = np.sum(delta3, axis=0)\n",
        "        delta2 = np.dot(delta3, self.W2.T) * (self.a1 > 0)\n",
        "        dW1 = np.dot(X.T, delta2)\n",
        "        db1 = np.sum(delta2, axis=0)\n",
        "        self.W1 -= learning_rate * dW1\n",
        "        self.b1 -= learning_rate * db1\n",
        "        self.W2 -= learning_rate * dW2\n",
        "        self.b2 -= learning_rate * db2\n",
        "\n",
        "    def predict(self, X):\n",
        "        self.forward(X)\n",
        "        return np.argmax(self.probs, axis=1)\n",
        "\n",
        "# Set hyperparameters\n",
        "input_size = X_train.shape[1]\n",
        "hidden_size = 64  # Reduced number of hidden units\n",
        "output_size = 10\n",
        "learning_rate = 0.01\n",
        "epochs = 20\n",
        "batch_size = 128\n",
        "\n",
        "# Create the neural network\n",
        "nn = NeuralNetwork(input_size, hidden_size, output_size)\n",
        "\n",
        "# Training loop\n",
        "for epoch in range(epochs):\n",
        "    # Shuffle the training data\n",
        "    permutation = np.random.permutation(X_train.shape[0])\n",
        "    X_train = X_train[permutation]\n",
        "    y_train = y_train[permutation]\n",
        "\n",
        "    # Mini-batch training\n",
        "    for i in range(0, X_train.shape[0], batch_size):\n",
        "        batch_X = X_train[i:i+batch_size]\n",
        "        batch_y = y_train[i:i+batch_size]\n",
        "\n",
        "        # Forward and backward propagation\n",
        "        nn.forward(batch_X)\n",
        "        nn.backward(batch_X, batch_y, learning_rate)\n",
        "\n",
        "    # Print the training loss and accuracy for each epoch\n",
        "    train_pred = nn.predict(X_train)\n",
        "    train_acc = np.mean(train_pred == y_train)\n",
        "    print(f'Epoch {epoch+1}/{epochs} - Training Accuracy: {train_acc:.4f}')\n",
        "\n",
        "# Evaluate the model on the test set\n",
        "test_pred = nn.predict(X_test)\n",
        "test_acc = np.mean(test_pred == y_test)\n",
        "print(f'Test Accuracy: {test_acc:.4f}')\n"
      ],
      "metadata": {
        "colab": {
          "base_uri": "https://localhost:8080/",
          "height": 382
        },
        "id": "AsdC_xq-14e4",
        "outputId": "169cc257-de6a-4a7b-ea00-3b9979aceb74"
      },
      "execution_count": 57,
      "outputs": [
        {
          "output_type": "display_data",
          "data": {
            "text/plain": [
              "<IPython.core.display.HTML object>"
            ],
            "text/html": [
              "\n",
              "  <style>\n",
              "    pre {\n",
              "        white-space: pre-wrap;\n",
              "    }\n",
              "  </style>\n",
              "  "
            ]
          },
          "metadata": {}
        },
        {
          "output_type": "display_data",
          "data": {
            "text/plain": [
              "<IPython.core.display.HTML object>"
            ],
            "text/html": [
              "\n",
              "  <style>\n",
              "    pre {\n",
              "        white-space: pre-wrap;\n",
              "    }\n",
              "  </style>\n",
              "  "
            ]
          },
          "metadata": {}
        },
        {
          "output_type": "stream",
          "name": "stdout",
          "text": [
            "Epoch 1/20 - Training Accuracy: 0.9169\n",
            "Epoch 2/20 - Training Accuracy: 0.9389\n",
            "Epoch 3/20 - Training Accuracy: 0.9500\n",
            "Epoch 4/20 - Training Accuracy: 0.9485\n",
            "Epoch 5/20 - Training Accuracy: 0.9514\n",
            "Epoch 6/20 - Training Accuracy: 0.9589\n",
            "Epoch 7/20 - Training Accuracy: 0.9587\n",
            "Epoch 8/20 - Training Accuracy: 0.9619\n",
            "Epoch 9/20 - Training Accuracy: 0.9637\n",
            "Epoch 10/20 - Training Accuracy: 0.9645\n",
            "Epoch 11/20 - Training Accuracy: 0.9630\n",
            "Epoch 12/20 - Training Accuracy: 0.9644\n",
            "Epoch 13/20 - Training Accuracy: 0.9632\n",
            "Epoch 14/20 - Training Accuracy: 0.9690\n",
            "Epoch 15/20 - Training Accuracy: 0.9678\n",
            "Epoch 16/20 - Training Accuracy: 0.9687\n",
            "Epoch 17/20 - Training Accuracy: 0.9682\n",
            "Epoch 18/20 - Training Accuracy: 0.9750\n",
            "Epoch 19/20 - Training Accuracy: 0.9654\n",
            "Epoch 20/20 - Training Accuracy: 0.9695\n",
            "Test Accuracy: 0.9564\n"
          ]
        }
      ]
    }
  ]
}